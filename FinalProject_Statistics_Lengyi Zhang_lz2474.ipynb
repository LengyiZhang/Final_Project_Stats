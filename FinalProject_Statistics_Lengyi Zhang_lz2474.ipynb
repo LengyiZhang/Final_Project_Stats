{
 "cells": [
  {
   "cell_type": "code",
   "execution_count": 1,
   "metadata": {},
   "outputs": [],
   "source": [
    "#Examine the relationship between race and BMI\n",
    "import pandas as pd\n",
    "df = pd.read_csv('/Users/lengyizhang/Downloads/NHANES.csv') \n",
    "#Source of Data: NHANES"
   ]
  },
  {
   "cell_type": "code",
   "execution_count": 2,
   "metadata": {},
   "outputs": [
    {
     "data": {
      "text/html": [
       "<div>\n",
       "<style scoped>\n",
       "    .dataframe tbody tr th:only-of-type {\n",
       "        vertical-align: middle;\n",
       "    }\n",
       "\n",
       "    .dataframe tbody tr th {\n",
       "        vertical-align: top;\n",
       "    }\n",
       "\n",
       "    .dataframe thead th {\n",
       "        text-align: right;\n",
       "    }\n",
       "</style>\n",
       "<table border=\"1\" class=\"dataframe\">\n",
       "  <thead>\n",
       "    <tr style=\"text-align: right;\">\n",
       "      <th></th>\n",
       "      <th>ID</th>\n",
       "      <th>SurveyYr</th>\n",
       "      <th>Gender</th>\n",
       "      <th>Age</th>\n",
       "      <th>AgeDecade</th>\n",
       "      <th>AgeMonths</th>\n",
       "      <th>Race1</th>\n",
       "      <th>Race3</th>\n",
       "      <th>Education</th>\n",
       "      <th>MaritalStatus</th>\n",
       "      <th>...</th>\n",
       "      <th>RegularMarij</th>\n",
       "      <th>AgeRegMarij</th>\n",
       "      <th>HardDrugs</th>\n",
       "      <th>SexEver</th>\n",
       "      <th>SexAge</th>\n",
       "      <th>SexNumPartnLife</th>\n",
       "      <th>SexNumPartYear</th>\n",
       "      <th>SameSex</th>\n",
       "      <th>SexOrientation</th>\n",
       "      <th>PregntNow</th>\n",
       "    </tr>\n",
       "  </thead>\n",
       "  <tbody>\n",
       "    <tr>\n",
       "      <th>0</th>\n",
       "      <td>51624</td>\n",
       "      <td>2009_10</td>\n",
       "      <td>male</td>\n",
       "      <td>34</td>\n",
       "      <td>30-39</td>\n",
       "      <td>409.0</td>\n",
       "      <td>White</td>\n",
       "      <td>NaN</td>\n",
       "      <td>High School</td>\n",
       "      <td>Married</td>\n",
       "      <td>...</td>\n",
       "      <td>No</td>\n",
       "      <td>NaN</td>\n",
       "      <td>Yes</td>\n",
       "      <td>Yes</td>\n",
       "      <td>16.0</td>\n",
       "      <td>8.0</td>\n",
       "      <td>1.0</td>\n",
       "      <td>No</td>\n",
       "      <td>Heterosexual</td>\n",
       "      <td>NaN</td>\n",
       "    </tr>\n",
       "    <tr>\n",
       "      <th>1</th>\n",
       "      <td>51624</td>\n",
       "      <td>2009_10</td>\n",
       "      <td>male</td>\n",
       "      <td>34</td>\n",
       "      <td>30-39</td>\n",
       "      <td>409.0</td>\n",
       "      <td>White</td>\n",
       "      <td>NaN</td>\n",
       "      <td>High School</td>\n",
       "      <td>Married</td>\n",
       "      <td>...</td>\n",
       "      <td>No</td>\n",
       "      <td>NaN</td>\n",
       "      <td>Yes</td>\n",
       "      <td>Yes</td>\n",
       "      <td>16.0</td>\n",
       "      <td>8.0</td>\n",
       "      <td>1.0</td>\n",
       "      <td>No</td>\n",
       "      <td>Heterosexual</td>\n",
       "      <td>NaN</td>\n",
       "    </tr>\n",
       "    <tr>\n",
       "      <th>2</th>\n",
       "      <td>51624</td>\n",
       "      <td>2009_10</td>\n",
       "      <td>male</td>\n",
       "      <td>34</td>\n",
       "      <td>30-39</td>\n",
       "      <td>409.0</td>\n",
       "      <td>White</td>\n",
       "      <td>NaN</td>\n",
       "      <td>High School</td>\n",
       "      <td>Married</td>\n",
       "      <td>...</td>\n",
       "      <td>No</td>\n",
       "      <td>NaN</td>\n",
       "      <td>Yes</td>\n",
       "      <td>Yes</td>\n",
       "      <td>16.0</td>\n",
       "      <td>8.0</td>\n",
       "      <td>1.0</td>\n",
       "      <td>No</td>\n",
       "      <td>Heterosexual</td>\n",
       "      <td>NaN</td>\n",
       "    </tr>\n",
       "    <tr>\n",
       "      <th>3</th>\n",
       "      <td>51625</td>\n",
       "      <td>2009_10</td>\n",
       "      <td>male</td>\n",
       "      <td>4</td>\n",
       "      <td>0-9</td>\n",
       "      <td>49.0</td>\n",
       "      <td>Other</td>\n",
       "      <td>NaN</td>\n",
       "      <td>NaN</td>\n",
       "      <td>NaN</td>\n",
       "      <td>...</td>\n",
       "      <td>NaN</td>\n",
       "      <td>NaN</td>\n",
       "      <td>NaN</td>\n",
       "      <td>NaN</td>\n",
       "      <td>NaN</td>\n",
       "      <td>NaN</td>\n",
       "      <td>NaN</td>\n",
       "      <td>NaN</td>\n",
       "      <td>NaN</td>\n",
       "      <td>NaN</td>\n",
       "    </tr>\n",
       "    <tr>\n",
       "      <th>4</th>\n",
       "      <td>51630</td>\n",
       "      <td>2009_10</td>\n",
       "      <td>female</td>\n",
       "      <td>49</td>\n",
       "      <td>40-49</td>\n",
       "      <td>596.0</td>\n",
       "      <td>White</td>\n",
       "      <td>NaN</td>\n",
       "      <td>Some College</td>\n",
       "      <td>LivePartner</td>\n",
       "      <td>...</td>\n",
       "      <td>No</td>\n",
       "      <td>NaN</td>\n",
       "      <td>Yes</td>\n",
       "      <td>Yes</td>\n",
       "      <td>12.0</td>\n",
       "      <td>10.0</td>\n",
       "      <td>1.0</td>\n",
       "      <td>Yes</td>\n",
       "      <td>Heterosexual</td>\n",
       "      <td>NaN</td>\n",
       "    </tr>\n",
       "  </tbody>\n",
       "</table>\n",
       "<p>5 rows × 76 columns</p>\n",
       "</div>"
      ],
      "text/plain": [
       "      ID SurveyYr  Gender  Age AgeDecade  AgeMonths  Race1 Race3  \\\n",
       "0  51624  2009_10    male   34     30-39      409.0  White   NaN   \n",
       "1  51624  2009_10    male   34     30-39      409.0  White   NaN   \n",
       "2  51624  2009_10    male   34     30-39      409.0  White   NaN   \n",
       "3  51625  2009_10    male    4       0-9       49.0  Other   NaN   \n",
       "4  51630  2009_10  female   49     40-49      596.0  White   NaN   \n",
       "\n",
       "      Education MaritalStatus  ... RegularMarij  AgeRegMarij  HardDrugs  \\\n",
       "0   High School       Married  ...           No          NaN        Yes   \n",
       "1   High School       Married  ...           No          NaN        Yes   \n",
       "2   High School       Married  ...           No          NaN        Yes   \n",
       "3           NaN           NaN  ...          NaN          NaN        NaN   \n",
       "4  Some College   LivePartner  ...           No          NaN        Yes   \n",
       "\n",
       "   SexEver SexAge SexNumPartnLife  SexNumPartYear  SameSex  SexOrientation  \\\n",
       "0      Yes   16.0             8.0             1.0       No    Heterosexual   \n",
       "1      Yes   16.0             8.0             1.0       No    Heterosexual   \n",
       "2      Yes   16.0             8.0             1.0       No    Heterosexual   \n",
       "3      NaN    NaN             NaN             NaN      NaN             NaN   \n",
       "4      Yes   12.0            10.0             1.0      Yes    Heterosexual   \n",
       "\n",
       "   PregntNow  \n",
       "0        NaN  \n",
       "1        NaN  \n",
       "2        NaN  \n",
       "3        NaN  \n",
       "4        NaN  \n",
       "\n",
       "[5 rows x 76 columns]"
      ]
     },
     "execution_count": 2,
     "metadata": {},
     "output_type": "execute_result"
    }
   ],
   "source": [
    "#Retrieve the table\n",
    "df.head()"
   ]
  },
  {
   "cell_type": "code",
   "execution_count": 3,
   "metadata": {},
   "outputs": [],
   "source": [
    "#select the columnns I want\n",
    "data = df[['BMI', 'Race3']]"
   ]
  },
  {
   "cell_type": "code",
   "execution_count": 4,
   "metadata": {},
   "outputs": [
    {
     "data": {
      "text/html": [
       "<div>\n",
       "<style scoped>\n",
       "    .dataframe tbody tr th:only-of-type {\n",
       "        vertical-align: middle;\n",
       "    }\n",
       "\n",
       "    .dataframe tbody tr th {\n",
       "        vertical-align: top;\n",
       "    }\n",
       "\n",
       "    .dataframe thead th {\n",
       "        text-align: right;\n",
       "    }\n",
       "</style>\n",
       "<table border=\"1\" class=\"dataframe\">\n",
       "  <thead>\n",
       "    <tr style=\"text-align: right;\">\n",
       "      <th></th>\n",
       "      <th>BMI</th>\n",
       "      <th>Race3</th>\n",
       "    </tr>\n",
       "  </thead>\n",
       "  <tbody>\n",
       "    <tr>\n",
       "      <th>0</th>\n",
       "      <td>32.22</td>\n",
       "      <td>NaN</td>\n",
       "    </tr>\n",
       "    <tr>\n",
       "      <th>1</th>\n",
       "      <td>32.22</td>\n",
       "      <td>NaN</td>\n",
       "    </tr>\n",
       "    <tr>\n",
       "      <th>2</th>\n",
       "      <td>32.22</td>\n",
       "      <td>NaN</td>\n",
       "    </tr>\n",
       "    <tr>\n",
       "      <th>3</th>\n",
       "      <td>15.30</td>\n",
       "      <td>NaN</td>\n",
       "    </tr>\n",
       "    <tr>\n",
       "      <th>4</th>\n",
       "      <td>30.57</td>\n",
       "      <td>NaN</td>\n",
       "    </tr>\n",
       "  </tbody>\n",
       "</table>\n",
       "</div>"
      ],
      "text/plain": [
       "     BMI Race3\n",
       "0  32.22   NaN\n",
       "1  32.22   NaN\n",
       "2  32.22   NaN\n",
       "3  15.30   NaN\n",
       "4  30.57   NaN"
      ]
     },
     "execution_count": 4,
     "metadata": {},
     "output_type": "execute_result"
    }
   ],
   "source": [
    "#show the two columns in a more concise table\n",
    "data.head()"
   ]
  },
  {
   "cell_type": "code",
   "execution_count": 5,
   "metadata": {},
   "outputs": [],
   "source": [
    "#drop NaNs\n",
    "data = data.dropna()"
   ]
  },
  {
   "cell_type": "code",
   "execution_count": 6,
   "metadata": {},
   "outputs": [],
   "source": [
    "#define each level of BMI\n",
    "def function(row):\n",
    "    if row['BMI'] >= 40:\n",
    "        return 'Severe Obesity'\n",
    "    elif row['BMI'] >= 30:\n",
    "        return 'Obesity'\n",
    "    elif row['BMI'] >= 25:\n",
    "        return 'Overweight'\n",
    "    elif row['BMI'] >= 18.5:\n",
    "        return 'Normal'\n",
    "    elif row['BMI'] < 18.5:\n",
    "        return 'Underweight'\n",
    "    else:\n",
    "        return 'NaN'"
   ]
  },
  {
   "cell_type": "code",
   "execution_count": 7,
   "metadata": {},
   "outputs": [],
   "source": [
    "#define a new column\n",
    "data['Obesity'] = data.apply(function, axis=1)"
   ]
  },
  {
   "cell_type": "code",
   "execution_count": 8,
   "metadata": {},
   "outputs": [],
   "source": [
    "#add the new column into the table\n",
    "table = pd.crosstab(index=data[\"Obesity\"], columns=data[\"Race3\"]) "
   ]
  },
  {
   "cell_type": "code",
   "execution_count": 9,
   "metadata": {},
   "outputs": [
    {
     "data": {
      "text/html": [
       "<div>\n",
       "<style scoped>\n",
       "    .dataframe tbody tr th:only-of-type {\n",
       "        vertical-align: middle;\n",
       "    }\n",
       "\n",
       "    .dataframe tbody tr th {\n",
       "        vertical-align: top;\n",
       "    }\n",
       "\n",
       "    .dataframe thead th {\n",
       "        text-align: right;\n",
       "    }\n",
       "</style>\n",
       "<table border=\"1\" class=\"dataframe\">\n",
       "  <thead>\n",
       "    <tr style=\"text-align: right;\">\n",
       "      <th>Race3</th>\n",
       "      <th>Asian</th>\n",
       "      <th>Black</th>\n",
       "      <th>Hispanic</th>\n",
       "      <th>Mexican</th>\n",
       "      <th>Other</th>\n",
       "      <th>White</th>\n",
       "    </tr>\n",
       "    <tr>\n",
       "      <th>Obesity</th>\n",
       "      <th></th>\n",
       "      <th></th>\n",
       "      <th></th>\n",
       "      <th></th>\n",
       "      <th></th>\n",
       "      <th></th>\n",
       "    </tr>\n",
       "  </thead>\n",
       "  <tbody>\n",
       "    <tr>\n",
       "      <th>Normal</th>\n",
       "      <td>130</td>\n",
       "      <td>135</td>\n",
       "      <td>86</td>\n",
       "      <td>122</td>\n",
       "      <td>46</td>\n",
       "      <td>974</td>\n",
       "    </tr>\n",
       "    <tr>\n",
       "      <th>Obesity</th>\n",
       "      <td>25</td>\n",
       "      <td>162</td>\n",
       "      <td>87</td>\n",
       "      <td>115</td>\n",
       "      <td>27</td>\n",
       "      <td>711</td>\n",
       "    </tr>\n",
       "    <tr>\n",
       "      <th>Overweight</th>\n",
       "      <td>72</td>\n",
       "      <td>131</td>\n",
       "      <td>105</td>\n",
       "      <td>119</td>\n",
       "      <td>34</td>\n",
       "      <td>858</td>\n",
       "    </tr>\n",
       "    <tr>\n",
       "      <th>Severe Obesity</th>\n",
       "      <td>4</td>\n",
       "      <td>45</td>\n",
       "      <td>6</td>\n",
       "      <td>16</td>\n",
       "      <td>13</td>\n",
       "      <td>140</td>\n",
       "    </tr>\n",
       "    <tr>\n",
       "      <th>Underweight</th>\n",
       "      <td>46</td>\n",
       "      <td>95</td>\n",
       "      <td>56</td>\n",
       "      <td>80</td>\n",
       "      <td>30</td>\n",
       "      <td>364</td>\n",
       "    </tr>\n",
       "  </tbody>\n",
       "</table>\n",
       "</div>"
      ],
      "text/plain": [
       "Race3           Asian  Black  Hispanic  Mexican  Other  White\n",
       "Obesity                                                      \n",
       "Normal            130    135        86      122     46    974\n",
       "Obesity            25    162        87      115     27    711\n",
       "Overweight         72    131       105      119     34    858\n",
       "Severe Obesity      4     45         6       16     13    140\n",
       "Underweight        46     95        56       80     30    364"
      ]
     },
     "execution_count": 9,
     "metadata": {},
     "output_type": "execute_result"
    }
   ],
   "source": [
    "table"
   ]
  },
  {
   "cell_type": "code",
   "execution_count": 10,
   "metadata": {},
   "outputs": [
    {
     "data": {
      "text/html": [
       "<div>\n",
       "<style scoped>\n",
       "    .dataframe tbody tr th:only-of-type {\n",
       "        vertical-align: middle;\n",
       "    }\n",
       "\n",
       "    .dataframe tbody tr th {\n",
       "        vertical-align: top;\n",
       "    }\n",
       "\n",
       "    .dataframe thead th {\n",
       "        text-align: right;\n",
       "    }\n",
       "</style>\n",
       "<table border=\"1\" class=\"dataframe\">\n",
       "  <thead>\n",
       "    <tr style=\"text-align: right;\">\n",
       "      <th>Race3</th>\n",
       "      <th>Asian</th>\n",
       "      <th>Black</th>\n",
       "      <th>Hispanic</th>\n",
       "      <th>Mexican</th>\n",
       "      <th>Other</th>\n",
       "      <th>White</th>\n",
       "    </tr>\n",
       "    <tr>\n",
       "      <th>Obesity</th>\n",
       "      <th></th>\n",
       "      <th></th>\n",
       "      <th></th>\n",
       "      <th></th>\n",
       "      <th></th>\n",
       "      <th></th>\n",
       "    </tr>\n",
       "  </thead>\n",
       "  <tbody>\n",
       "    <tr>\n",
       "      <th>Underweight</th>\n",
       "      <td>46</td>\n",
       "      <td>95</td>\n",
       "      <td>56</td>\n",
       "      <td>80</td>\n",
       "      <td>30</td>\n",
       "      <td>364</td>\n",
       "    </tr>\n",
       "    <tr>\n",
       "      <th>Normal</th>\n",
       "      <td>130</td>\n",
       "      <td>135</td>\n",
       "      <td>86</td>\n",
       "      <td>122</td>\n",
       "      <td>46</td>\n",
       "      <td>974</td>\n",
       "    </tr>\n",
       "    <tr>\n",
       "      <th>Overweight</th>\n",
       "      <td>72</td>\n",
       "      <td>131</td>\n",
       "      <td>105</td>\n",
       "      <td>119</td>\n",
       "      <td>34</td>\n",
       "      <td>858</td>\n",
       "    </tr>\n",
       "    <tr>\n",
       "      <th>Obesity</th>\n",
       "      <td>25</td>\n",
       "      <td>162</td>\n",
       "      <td>87</td>\n",
       "      <td>115</td>\n",
       "      <td>27</td>\n",
       "      <td>711</td>\n",
       "    </tr>\n",
       "    <tr>\n",
       "      <th>Severe Obesity</th>\n",
       "      <td>4</td>\n",
       "      <td>45</td>\n",
       "      <td>6</td>\n",
       "      <td>16</td>\n",
       "      <td>13</td>\n",
       "      <td>140</td>\n",
       "    </tr>\n",
       "  </tbody>\n",
       "</table>\n",
       "</div>"
      ],
      "text/plain": [
       "Race3           Asian  Black  Hispanic  Mexican  Other  White\n",
       "Obesity                                                      \n",
       "Underweight        46     95        56       80     30    364\n",
       "Normal            130    135        86      122     46    974\n",
       "Overweight         72    131       105      119     34    858\n",
       "Obesity            25    162        87      115     27    711\n",
       "Severe Obesity      4     45         6       16     13    140"
      ]
     },
     "execution_count": 10,
     "metadata": {},
     "output_type": "execute_result"
    }
   ],
   "source": [
    "#rearrange the order of rows\n",
    "table = table.reindex(['Underweight','Normal','Overweight','Obesity','Severe Obesity'])\n",
    "table"
   ]
  },
  {
   "cell_type": "code",
   "execution_count": 11,
   "metadata": {},
   "outputs": [],
   "source": [
    "#calculate the percentage of population from each race in different levels of BMI\n",
    "table['Asian_per'] = table['Asian'] / sum(table['Asian'])\n",
    "table['Black_per'] = table['Black'] / sum(table['Black'])\n",
    "table['Hispanic_per'] = table['Hispanic'] / sum(table['Hispanic'])\n",
    "table['Mexican_per'] = table['Mexican'] / sum(table['Mexican'])\n",
    "table['Other_per'] = table['Other'] / sum(table['Other'])\n",
    "table['White_per'] = table['White'] / sum(table['White'])"
   ]
  },
  {
   "cell_type": "code",
   "execution_count": 12,
   "metadata": {
    "scrolled": true
   },
   "outputs": [
    {
     "data": {
      "text/html": [
       "<div>\n",
       "<style scoped>\n",
       "    .dataframe tbody tr th:only-of-type {\n",
       "        vertical-align: middle;\n",
       "    }\n",
       "\n",
       "    .dataframe tbody tr th {\n",
       "        vertical-align: top;\n",
       "    }\n",
       "\n",
       "    .dataframe thead th {\n",
       "        text-align: right;\n",
       "    }\n",
       "</style>\n",
       "<table border=\"1\" class=\"dataframe\">\n",
       "  <thead>\n",
       "    <tr style=\"text-align: right;\">\n",
       "      <th>Race3</th>\n",
       "      <th>Asian</th>\n",
       "      <th>Black</th>\n",
       "      <th>Hispanic</th>\n",
       "      <th>Mexican</th>\n",
       "      <th>Other</th>\n",
       "      <th>White</th>\n",
       "      <th>Asian_per</th>\n",
       "      <th>Black_per</th>\n",
       "      <th>Hispanic_per</th>\n",
       "      <th>Mexican_per</th>\n",
       "      <th>Other_per</th>\n",
       "      <th>White_per</th>\n",
       "    </tr>\n",
       "    <tr>\n",
       "      <th>Obesity</th>\n",
       "      <th></th>\n",
       "      <th></th>\n",
       "      <th></th>\n",
       "      <th></th>\n",
       "      <th></th>\n",
       "      <th></th>\n",
       "      <th></th>\n",
       "      <th></th>\n",
       "      <th></th>\n",
       "      <th></th>\n",
       "      <th></th>\n",
       "      <th></th>\n",
       "    </tr>\n",
       "  </thead>\n",
       "  <tbody>\n",
       "    <tr>\n",
       "      <th>Underweight</th>\n",
       "      <td>46</td>\n",
       "      <td>95</td>\n",
       "      <td>56</td>\n",
       "      <td>80</td>\n",
       "      <td>30</td>\n",
       "      <td>364</td>\n",
       "      <td>0.166065</td>\n",
       "      <td>0.167254</td>\n",
       "      <td>0.164706</td>\n",
       "      <td>0.176991</td>\n",
       "      <td>0.200000</td>\n",
       "      <td>0.119462</td>\n",
       "    </tr>\n",
       "    <tr>\n",
       "      <th>Normal</th>\n",
       "      <td>130</td>\n",
       "      <td>135</td>\n",
       "      <td>86</td>\n",
       "      <td>122</td>\n",
       "      <td>46</td>\n",
       "      <td>974</td>\n",
       "      <td>0.469314</td>\n",
       "      <td>0.237676</td>\n",
       "      <td>0.252941</td>\n",
       "      <td>0.269912</td>\n",
       "      <td>0.306667</td>\n",
       "      <td>0.319659</td>\n",
       "    </tr>\n",
       "    <tr>\n",
       "      <th>Overweight</th>\n",
       "      <td>72</td>\n",
       "      <td>131</td>\n",
       "      <td>105</td>\n",
       "      <td>119</td>\n",
       "      <td>34</td>\n",
       "      <td>858</td>\n",
       "      <td>0.259928</td>\n",
       "      <td>0.230634</td>\n",
       "      <td>0.308824</td>\n",
       "      <td>0.263274</td>\n",
       "      <td>0.226667</td>\n",
       "      <td>0.281588</td>\n",
       "    </tr>\n",
       "    <tr>\n",
       "      <th>Obesity</th>\n",
       "      <td>25</td>\n",
       "      <td>162</td>\n",
       "      <td>87</td>\n",
       "      <td>115</td>\n",
       "      <td>27</td>\n",
       "      <td>711</td>\n",
       "      <td>0.090253</td>\n",
       "      <td>0.285211</td>\n",
       "      <td>0.255882</td>\n",
       "      <td>0.254425</td>\n",
       "      <td>0.180000</td>\n",
       "      <td>0.233344</td>\n",
       "    </tr>\n",
       "    <tr>\n",
       "      <th>Severe Obesity</th>\n",
       "      <td>4</td>\n",
       "      <td>45</td>\n",
       "      <td>6</td>\n",
       "      <td>16</td>\n",
       "      <td>13</td>\n",
       "      <td>140</td>\n",
       "      <td>0.014440</td>\n",
       "      <td>0.079225</td>\n",
       "      <td>0.017647</td>\n",
       "      <td>0.035398</td>\n",
       "      <td>0.086667</td>\n",
       "      <td>0.045947</td>\n",
       "    </tr>\n",
       "  </tbody>\n",
       "</table>\n",
       "</div>"
      ],
      "text/plain": [
       "Race3           Asian  Black  Hispanic  Mexican  Other  White  Asian_per  \\\n",
       "Obesity                                                                    \n",
       "Underweight        46     95        56       80     30    364   0.166065   \n",
       "Normal            130    135        86      122     46    974   0.469314   \n",
       "Overweight         72    131       105      119     34    858   0.259928   \n",
       "Obesity            25    162        87      115     27    711   0.090253   \n",
       "Severe Obesity      4     45         6       16     13    140   0.014440   \n",
       "\n",
       "Race3           Black_per  Hispanic_per  Mexican_per  Other_per  White_per  \n",
       "Obesity                                                                     \n",
       "Underweight      0.167254      0.164706     0.176991   0.200000   0.119462  \n",
       "Normal           0.237676      0.252941     0.269912   0.306667   0.319659  \n",
       "Overweight       0.230634      0.308824     0.263274   0.226667   0.281588  \n",
       "Obesity          0.285211      0.255882     0.254425   0.180000   0.233344  \n",
       "Severe Obesity   0.079225      0.017647     0.035398   0.086667   0.045947  "
      ]
     },
     "execution_count": 12,
     "metadata": {},
     "output_type": "execute_result"
    }
   ],
   "source": [
    "table"
   ]
  },
  {
   "cell_type": "code",
   "execution_count": 13,
   "metadata": {},
   "outputs": [],
   "source": [
    "#apply all the extensions\n",
    "import pandas as pd\n",
    "import numpy as np\n",
    "import matplotlib.pyplot as plt\n",
    "from scipy import stats\n",
    "\n",
    "from statsmodels.regression.linear_model import OLS\n",
    "import statsmodels.api as sm\n",
    "from scipy.stats import chi2_contingency"
   ]
  },
  {
   "cell_type": "code",
   "execution_count": 14,
   "metadata": {},
   "outputs": [
    {
     "data": {
      "image/png": "[encoded data removed]",
      "text/plain": [
       "<Figure size 720x432 with 1 Axes>"
      ]
     },
     "metadata": {
      "needs_background": "light"
     },
     "output_type": "display_data"
    }
   ],
   "source": [
    "#visualize the proportion of population of each race regarding levels of obesity\n",
    "import matplotlib\n",
    "import matplotlib.pyplot as plt\n",
    "import numpy as np\n",
    "\n",
    "per_cols = ['Asian_per', 'Black_per', 'Hispanic_per', 'Mexican_per', 'Other_per', 'White_per']\n",
    "labels = ['Asian', 'Black', 'Hispanic', 'Mexican', 'Other', 'White']\n",
    "y_value1 = y_value1 = table[per_cols].loc['Underweight']\n",
    "y_value2 = y_value2 = table[per_cols].loc['Normal']\n",
    "y_value3 = y_value3 = table[per_cols].loc['Overweight']\n",
    "y_value4 = y_value4 = table[per_cols].loc['Obesity']\n",
    "y_value5 = y_value5 = table[per_cols].loc['Severe Obesity']\n",
    "\n",
    "fig, axs = plt.subplots(figsize=(10,6))\n",
    "\n",
    "p1 = axs.bar(labels, y_value1) \n",
    "p2 = axs.bar(labels, y_value2, bottom = y_value1)\n",
    "p3 = axs.bar(labels, y_value3, bottom = (y_value1 + y_value2))\n",
    "p4 = axs.bar(labels, y_value4, bottom = (y_value1 + y_value2 + y_value3))\n",
    "p5 = axs.bar(labels, y_value5, bottom = (y_value1 + y_value2 + y_value3 + y_value4))\n",
    "\n",
    "axs.set_title(\"Obesity level broken down by race\", fontsize = 20, fontweight = \"bold\")   \n",
    "axs.set_xlabel(\"Race\", fontsize=14)\n",
    "axs.set_ylabel(\"Proportion\", fontsize=14)\n",
    "axs.tick_params(labelsize=16)  \n",
    "axs.legend((p1[0],p2[0],p3[0],p4[0],p5[0]),['Underweight','Normal','Overweight','Obesity','Severe Obesity'],\n",
    "           bbox_to_anchor=(1.05, 1))\n",
    "\n",
    "plt.show() "
   ]
  },
  {
   "cell_type": "code",
   "execution_count": 15,
   "metadata": {},
   "outputs": [],
   "source": [
    "#calculate the means with 95% CI \n",
    "def CI_mean(data):\n",
    "    se = np.std(data)/np.sqrt(len(data))\n",
    "    low = np.mean(data)-1.96*se\n",
    "    up = np.mean(data)+1.96*se\n",
    "    print(\"Average is:\", np.mean(data))\n",
    "    print(\"95% CI of mean is: ({}, {})\".format(low,up))"
   ]
  },
  {
   "cell_type": "code",
   "execution_count": 16,
   "metadata": {},
   "outputs": [],
   "source": [
    "#define a structure to select data of each race\n",
    "asian_df = df[df['Race3'] == 'Asian'] \n",
    "black_df = df[df['Race3'] == 'Black'] \n",
    "white_df = df[df['Race3'] == 'White'] "
   ]
  },
  {
   "cell_type": "code",
   "execution_count": 17,
   "metadata": {},
   "outputs": [
    {
     "name": "stdout",
     "output_type": "stream",
     "text": [
      "Average is: 23.651263537906114\n",
      "95% CI of mean is: (22.99657864616456, 24.305948429647668)\n"
     ]
    }
   ],
   "source": [
    "#calculate the mean of asians' BMI with 95% CI\n",
    "CI_mean(asian_df['BMI'])"
   ]
  },
  {
   "cell_type": "code",
   "execution_count": 18,
   "metadata": {},
   "outputs": [
    {
     "name": "stdout",
     "output_type": "stream",
     "text": [
      "Average is: 27.57323943661972\n",
      "95% CI of mean is: (26.87144595042435, 28.27503292281509)\n"
     ]
    }
   ],
   "source": [
    "#calculate the mean of black people's BMI with 95% CI\n",
    "CI_mean(black_df['BMI'])"
   ]
  },
  {
   "cell_type": "code",
   "execution_count": 19,
   "metadata": {},
   "outputs": [
    {
     "name": "stdout",
     "output_type": "stream",
     "text": [
      "Average is: 26.59891696750879\n",
      "95% CI of mean is: (26.350478427735922, 26.847355507281655)\n"
     ]
    }
   ],
   "source": [
    "#calculate the mean of white people's BMI with 95% CI\n",
    "CI_mean(white_df['BMI'])"
   ]
  },
  {
   "cell_type": "code",
   "execution_count": 20,
   "metadata": {},
   "outputs": [],
   "source": [
    "#define the function to calculate mean difference with 95% CI\n",
    "def CI_mean_diff(list1, list2):\n",
    "    s1 = np.var(list1)\n",
    "    s2 = np.var(list2)\n",
    "    n1 = len(list1)\n",
    "    n2 = len(list2)\n",
    "    se2 = s1/n1 + s2/n2\n",
    "    se = np.sqrt(se2)\n",
    "\n",
    "    diff = np.mean(list1) - np.mean(list2)\n",
    "    low = diff - 1.96 * se\n",
    "    up = diff + 1.96 * se\n",
    "    print(\"The average difference is:\", diff)\n",
    "    print(\"The 95% CI is: ({}, {})\".format(low, up))"
   ]
  },
  {
   "cell_type": "code",
   "execution_count": 21,
   "metadata": {
    "scrolled": true
   },
   "outputs": [
    {
     "name": "stdout",
     "output_type": "stream",
     "text": [
      "The average difference is: -2.947653429602674\n",
      "The 95% CI is: (-3.6478919714718874, -2.247414887733461)\n"
     ]
    }
   ],
   "source": [
    "#calculate the mean difference between asian people's and white people's BMI with 95% CI\n",
    "CI_mean_diff(asian_df['BMI'], white_df['BMI'])"
   ]
  },
  {
   "cell_type": "code",
   "execution_count": 22,
   "metadata": {
    "scrolled": true
   },
   "outputs": [
    {
     "name": "stdout",
     "output_type": "stream",
     "text": [
      "The average difference is: 0.9743224691109305\n",
      "The 95% CI is: (0.22985231839249676, 1.7187926198293642)\n"
     ]
    }
   ],
   "source": [
    "#calculate the mean difference between black people's and white people's BMI with 95% CI\n",
    "CI_mean_diff(black_df['BMI'], white_df['BMI'])"
   ]
  },
  {
   "cell_type": "code",
   "execution_count": 23,
   "metadata": {},
   "outputs": [
    {
     "name": "stdout",
     "output_type": "stream",
     "text": [
      "Test statistic: -8.083857108498991\n",
      "p-value: 9.6875191243374e-15\n"
     ]
    }
   ],
   "source": [
    "#conduct a two-sample t-test between asian people's BMI and white people's BMI\n",
    "t_val, p_val = stats.ttest_ind(asian_df['BMI'].dropna(),\n",
    "                               white_df['BMI'].dropna(), equal_var=False)\n",
    "\n",
    "print(\"Test statistic:\", t_val)\n",
    "print(\"p-value:\", p_val) "
   ]
  },
  {
   "cell_type": "code",
   "execution_count": 24,
   "metadata": {},
   "outputs": [
    {
     "name": "stdout",
     "output_type": "stream",
     "text": [
      "Test statistic: -2.5180744003822264\n",
      "p-value: 0.012017291461856464\n"
     ]
    }
   ],
   "source": [
    "#conduct a two-sample t-test between black people's BMI and white people's BMI\n",
    "t_val, p_val = stats.ttest_ind(white_df['BMI'].dropna(),\n",
    "                               black_df['BMI'].dropna(), equal_var=False)\n",
    "\n",
    "print(\"Test statistic:\", t_val)\n",
    "print(\"p-value:\", p_val) "
   ]
  },
  {
   "cell_type": "code",
   "execution_count": null,
   "metadata": {},
   "outputs": [],
   "source": []
  },
  {
   "cell_type": "code",
   "execution_count": 25,
   "metadata": {},
   "outputs": [
    {
     "data": {
      "text/html": [
       "<div>\n",
       "<style scoped>\n",
       "    .dataframe tbody tr th:only-of-type {\n",
       "        vertical-align: middle;\n",
       "    }\n",
       "\n",
       "    .dataframe tbody tr th {\n",
       "        vertical-align: top;\n",
       "    }\n",
       "\n",
       "    .dataframe thead th {\n",
       "        text-align: right;\n",
       "    }\n",
       "</style>\n",
       "<table border=\"1\" class=\"dataframe\">\n",
       "  <thead>\n",
       "    <tr style=\"text-align: right;\">\n",
       "      <th></th>\n",
       "      <th>ID</th>\n",
       "      <th>SurveyYr</th>\n",
       "      <th>Gender</th>\n",
       "      <th>Age</th>\n",
       "      <th>AgeDecade</th>\n",
       "      <th>AgeMonths</th>\n",
       "      <th>Race1</th>\n",
       "      <th>Race3</th>\n",
       "      <th>Education</th>\n",
       "      <th>MaritalStatus</th>\n",
       "      <th>...</th>\n",
       "      <th>RegularMarij</th>\n",
       "      <th>AgeRegMarij</th>\n",
       "      <th>HardDrugs</th>\n",
       "      <th>SexEver</th>\n",
       "      <th>SexAge</th>\n",
       "      <th>SexNumPartnLife</th>\n",
       "      <th>SexNumPartYear</th>\n",
       "      <th>SameSex</th>\n",
       "      <th>SexOrientation</th>\n",
       "      <th>PregntNow</th>\n",
       "    </tr>\n",
       "  </thead>\n",
       "  <tbody>\n",
       "    <tr>\n",
       "      <th>0</th>\n",
       "      <td>51624</td>\n",
       "      <td>2009_10</td>\n",
       "      <td>male</td>\n",
       "      <td>34</td>\n",
       "      <td>30-39</td>\n",
       "      <td>409.0</td>\n",
       "      <td>White</td>\n",
       "      <td>NaN</td>\n",
       "      <td>High School</td>\n",
       "      <td>Married</td>\n",
       "      <td>...</td>\n",
       "      <td>No</td>\n",
       "      <td>NaN</td>\n",
       "      <td>Yes</td>\n",
       "      <td>Yes</td>\n",
       "      <td>16.0</td>\n",
       "      <td>8.0</td>\n",
       "      <td>1.0</td>\n",
       "      <td>No</td>\n",
       "      <td>Heterosexual</td>\n",
       "      <td>NaN</td>\n",
       "    </tr>\n",
       "    <tr>\n",
       "      <th>1</th>\n",
       "      <td>51624</td>\n",
       "      <td>2009_10</td>\n",
       "      <td>male</td>\n",
       "      <td>34</td>\n",
       "      <td>30-39</td>\n",
       "      <td>409.0</td>\n",
       "      <td>White</td>\n",
       "      <td>NaN</td>\n",
       "      <td>High School</td>\n",
       "      <td>Married</td>\n",
       "      <td>...</td>\n",
       "      <td>No</td>\n",
       "      <td>NaN</td>\n",
       "      <td>Yes</td>\n",
       "      <td>Yes</td>\n",
       "      <td>16.0</td>\n",
       "      <td>8.0</td>\n",
       "      <td>1.0</td>\n",
       "      <td>No</td>\n",
       "      <td>Heterosexual</td>\n",
       "      <td>NaN</td>\n",
       "    </tr>\n",
       "    <tr>\n",
       "      <th>2</th>\n",
       "      <td>51624</td>\n",
       "      <td>2009_10</td>\n",
       "      <td>male</td>\n",
       "      <td>34</td>\n",
       "      <td>30-39</td>\n",
       "      <td>409.0</td>\n",
       "      <td>White</td>\n",
       "      <td>NaN</td>\n",
       "      <td>High School</td>\n",
       "      <td>Married</td>\n",
       "      <td>...</td>\n",
       "      <td>No</td>\n",
       "      <td>NaN</td>\n",
       "      <td>Yes</td>\n",
       "      <td>Yes</td>\n",
       "      <td>16.0</td>\n",
       "      <td>8.0</td>\n",
       "      <td>1.0</td>\n",
       "      <td>No</td>\n",
       "      <td>Heterosexual</td>\n",
       "      <td>NaN</td>\n",
       "    </tr>\n",
       "    <tr>\n",
       "      <th>3</th>\n",
       "      <td>51625</td>\n",
       "      <td>2009_10</td>\n",
       "      <td>male</td>\n",
       "      <td>4</td>\n",
       "      <td>0-9</td>\n",
       "      <td>49.0</td>\n",
       "      <td>Other</td>\n",
       "      <td>NaN</td>\n",
       "      <td>NaN</td>\n",
       "      <td>NaN</td>\n",
       "      <td>...</td>\n",
       "      <td>NaN</td>\n",
       "      <td>NaN</td>\n",
       "      <td>NaN</td>\n",
       "      <td>NaN</td>\n",
       "      <td>NaN</td>\n",
       "      <td>NaN</td>\n",
       "      <td>NaN</td>\n",
       "      <td>NaN</td>\n",
       "      <td>NaN</td>\n",
       "      <td>NaN</td>\n",
       "    </tr>\n",
       "    <tr>\n",
       "      <th>4</th>\n",
       "      <td>51630</td>\n",
       "      <td>2009_10</td>\n",
       "      <td>female</td>\n",
       "      <td>49</td>\n",
       "      <td>40-49</td>\n",
       "      <td>596.0</td>\n",
       "      <td>White</td>\n",
       "      <td>NaN</td>\n",
       "      <td>Some College</td>\n",
       "      <td>LivePartner</td>\n",
       "      <td>...</td>\n",
       "      <td>No</td>\n",
       "      <td>NaN</td>\n",
       "      <td>Yes</td>\n",
       "      <td>Yes</td>\n",
       "      <td>12.0</td>\n",
       "      <td>10.0</td>\n",
       "      <td>1.0</td>\n",
       "      <td>Yes</td>\n",
       "      <td>Heterosexual</td>\n",
       "      <td>NaN</td>\n",
       "    </tr>\n",
       "  </tbody>\n",
       "</table>\n",
       "<p>5 rows × 76 columns</p>\n",
       "</div>"
      ],
      "text/plain": [
       "      ID SurveyYr  Gender  Age AgeDecade  AgeMonths  Race1 Race3  \\\n",
       "0  51624  2009_10    male   34     30-39      409.0  White   NaN   \n",
       "1  51624  2009_10    male   34     30-39      409.0  White   NaN   \n",
       "2  51624  2009_10    male   34     30-39      409.0  White   NaN   \n",
       "3  51625  2009_10    male    4       0-9       49.0  Other   NaN   \n",
       "4  51630  2009_10  female   49     40-49      596.0  White   NaN   \n",
       "\n",
       "      Education MaritalStatus  ... RegularMarij  AgeRegMarij  HardDrugs  \\\n",
       "0   High School       Married  ...           No          NaN        Yes   \n",
       "1   High School       Married  ...           No          NaN        Yes   \n",
       "2   High School       Married  ...           No          NaN        Yes   \n",
       "3           NaN           NaN  ...          NaN          NaN        NaN   \n",
       "4  Some College   LivePartner  ...           No          NaN        Yes   \n",
       "\n",
       "   SexEver SexAge SexNumPartnLife  SexNumPartYear  SameSex  SexOrientation  \\\n",
       "0      Yes   16.0             8.0             1.0       No    Heterosexual   \n",
       "1      Yes   16.0             8.0             1.0       No    Heterosexual   \n",
       "2      Yes   16.0             8.0             1.0       No    Heterosexual   \n",
       "3      NaN    NaN             NaN             NaN      NaN             NaN   \n",
       "4      Yes   12.0            10.0             1.0      Yes    Heterosexual   \n",
       "\n",
       "   PregntNow  \n",
       "0        NaN  \n",
       "1        NaN  \n",
       "2        NaN  \n",
       "3        NaN  \n",
       "4        NaN  \n",
       "\n",
       "[5 rows x 76 columns]"
      ]
     },
     "execution_count": 25,
     "metadata": {},
     "output_type": "execute_result"
    }
   ],
   "source": [
    "#Examine the relationship between race and income\n",
    "df.head()\n",
    "#Source of Data: NHANES"
   ]
  },
  {
   "cell_type": "code",
   "execution_count": 26,
   "metadata": {},
   "outputs": [
    {
     "data": {
      "image/png": "[encoded data removed]",
      "text/plain": [
       "<Figure size 864x576 with 1 Axes>"
      ]
     },
     "metadata": {
      "needs_background": "light"
     },
     "output_type": "display_data"
    }
   ],
   "source": [
    "#visualize the median household income based on race\n",
    "fig, axs = plt.subplots(figsize=(12,8))\n",
    "axs.boxplot([asian_df['HHIncomeMid'].dropna(), black_df['HHIncomeMid'].dropna(), white_df['HHIncomeMid'].dropna()])\n",
    "plt.title('Median household income broken down by race ', fontsize=20)\n",
    "axs.set_xticklabels(['Asian','Black','White'])\n",
    "axs.set_ylabel('Median Household Income [$] ', fontsize=18)\n",
    "axs.tick_params(labelsize=15)\n",
    "plt.show() "
   ]
  },
  {
   "cell_type": "code",
   "execution_count": 27,
   "metadata": {},
   "outputs": [
    {
     "name": "stdout",
     "output_type": "stream",
     "text": [
      "Average is: 65313.76518218624\n",
      "95% CI of mean is: (61494.0634055579, 69133.46695881458)\n"
     ]
    }
   ],
   "source": [
    "#calculate the mean of asian people's median household income with 95% CI\n",
    "CI_mean(asian_df['HHIncomeMid'])"
   ]
  },
  {
   "cell_type": "code",
   "execution_count": 28,
   "metadata": {},
   "outputs": [
    {
     "name": "stdout",
     "output_type": "stream",
     "text": [
      "Average is: 42086.57587548638\n",
      "95% CI of mean is: (39581.7954213934, 44591.35632957936)\n"
     ]
    }
   ],
   "source": [
    "#calculate the mean of black people's median household income with 95% CI\n",
    "CI_mean(black_df['HHIncomeMid'])"
   ]
  },
  {
   "cell_type": "code",
   "execution_count": 29,
   "metadata": {
    "scrolled": true
   },
   "outputs": [
    {
     "name": "stdout",
     "output_type": "stream",
     "text": [
      "Average is: 63055.555555555555\n",
      "95% CI of mean is: (61899.52281309778, 64211.58829801333)\n"
     ]
    }
   ],
   "source": [
    "#calculate the mean of white people's median household income with 95% CI\n",
    "CI_mean(white_df['HHIncomeMid'])"
   ]
  },
  {
   "cell_type": "code",
   "execution_count": 30,
   "metadata": {},
   "outputs": [
    {
     "name": "stdout",
     "output_type": "stream",
     "text": [
      "The average difference is: 2258.2096266306835\n",
      "The 95% CI is: (-1732.5964779066112, 6249.015731167978)\n"
     ]
    }
   ],
   "source": [
    "#calculate the mean difference between asian people's and white people's median household income with 95% CI\n",
    "CI_mean_diff(asian_df['HHIncomeMid'], white_df['HHIncomeMid'])"
   ]
  },
  {
   "cell_type": "code",
   "execution_count": 31,
   "metadata": {},
   "outputs": [
    {
     "name": "stdout",
     "output_type": "stream",
     "text": [
      "The average difference is: 23227.18930669986\n",
      "The 95% CI is: (18659.47140980825, 27794.90720359147)\n"
     ]
    }
   ],
   "source": [
    "#calculate the mean difference between asian people's and black people's median household income with 95% CI\n",
    "CI_mean_diff(asian_df['HHIncomeMid'], black_df['HHIncomeMid'])"
   ]
  },
  {
   "cell_type": "code",
   "execution_count": 32,
   "metadata": {},
   "outputs": [
    {
     "name": "stdout",
     "output_type": "stream",
     "text": [
      "Test statistic: 1.029260836464263\n",
      "p-value: 0.3042202587418382\n"
     ]
    }
   ],
   "source": [
    "#conduct a two-sample t-test between asian people's and white people's median household income\n",
    "t_val, p_val = stats.ttest_ind(asian_df['HHIncomeMid'].dropna(),\n",
    "                               white_df['HHIncomeMid'].dropna(), equal_var=False)\n",
    "\n",
    "print(\"Test statistic:\", t_val)\n",
    "print(\"p-value:\", p_val)"
   ]
  },
  {
   "cell_type": "code",
   "execution_count": 33,
   "metadata": {},
   "outputs": [
    {
     "name": "stdout",
     "output_type": "stream",
     "text": [
      "Test statistic: 9.238214177277982\n",
      "p-value: 9.413145599388817e-19\n"
     ]
    }
   ],
   "source": [
    "#conduct a two-sample t-test between asian people's and black people's median household income\n",
    "t_val, p_val = stats.ttest_ind(asian_df['HHIncomeMid'].dropna(),\n",
    "                               black_df['HHIncomeMid'].dropna(), equal_var=False)\n",
    "\n",
    "print(\"Test statistic:\", t_val)\n",
    "print(\"p-value:\", p_val)"
   ]
  },
  {
   "cell_type": "code",
   "execution_count": null,
   "metadata": {},
   "outputs": [],
   "source": []
  },
  {
   "cell_type": "code",
   "execution_count": 34,
   "metadata": {},
   "outputs": [],
   "source": [
    "#Examine the relationship between race and education level\n",
    "#Select the two columns of data that I want to focus on\n",
    "data_no2 = df[['Race3','Education']]\n",
    "#Source of Data: NHANES"
   ]
  },
  {
   "cell_type": "code",
   "execution_count": 35,
   "metadata": {},
   "outputs": [
    {
     "data": {
      "text/html": [
       "<div>\n",
       "<style scoped>\n",
       "    .dataframe tbody tr th:only-of-type {\n",
       "        vertical-align: middle;\n",
       "    }\n",
       "\n",
       "    .dataframe tbody tr th {\n",
       "        vertical-align: top;\n",
       "    }\n",
       "\n",
       "    .dataframe thead th {\n",
       "        text-align: right;\n",
       "    }\n",
       "</style>\n",
       "<table border=\"1\" class=\"dataframe\">\n",
       "  <thead>\n",
       "    <tr style=\"text-align: right;\">\n",
       "      <th></th>\n",
       "      <th>Race3</th>\n",
       "      <th>Education</th>\n",
       "    </tr>\n",
       "  </thead>\n",
       "  <tbody>\n",
       "    <tr>\n",
       "      <th>0</th>\n",
       "      <td>NaN</td>\n",
       "      <td>High School</td>\n",
       "    </tr>\n",
       "    <tr>\n",
       "      <th>1</th>\n",
       "      <td>NaN</td>\n",
       "      <td>High School</td>\n",
       "    </tr>\n",
       "    <tr>\n",
       "      <th>2</th>\n",
       "      <td>NaN</td>\n",
       "      <td>High School</td>\n",
       "    </tr>\n",
       "    <tr>\n",
       "      <th>3</th>\n",
       "      <td>NaN</td>\n",
       "      <td>NaN</td>\n",
       "    </tr>\n",
       "    <tr>\n",
       "      <th>4</th>\n",
       "      <td>NaN</td>\n",
       "      <td>Some College</td>\n",
       "    </tr>\n",
       "  </tbody>\n",
       "</table>\n",
       "</div>"
      ],
      "text/plain": [
       "  Race3     Education\n",
       "0   NaN   High School\n",
       "1   NaN   High School\n",
       "2   NaN   High School\n",
       "3   NaN           NaN\n",
       "4   NaN  Some College"
      ]
     },
     "execution_count": 35,
     "metadata": {},
     "output_type": "execute_result"
    }
   ],
   "source": [
    "#show the datatable\n",
    "data_no2.head()"
   ]
  },
  {
   "cell_type": "code",
   "execution_count": 36,
   "metadata": {},
   "outputs": [],
   "source": [
    "#drop the NaNs\n",
    "data_no2 = data_no2.dropna()"
   ]
  },
  {
   "cell_type": "code",
   "execution_count": 37,
   "metadata": {},
   "outputs": [
    {
     "data": {
      "text/html": [
       "<div>\n",
       "<style scoped>\n",
       "    .dataframe tbody tr th:only-of-type {\n",
       "        vertical-align: middle;\n",
       "    }\n",
       "\n",
       "    .dataframe tbody tr th {\n",
       "        vertical-align: top;\n",
       "    }\n",
       "\n",
       "    .dataframe thead th {\n",
       "        text-align: right;\n",
       "    }\n",
       "</style>\n",
       "<table border=\"1\" class=\"dataframe\">\n",
       "  <thead>\n",
       "    <tr style=\"text-align: right;\">\n",
       "      <th></th>\n",
       "      <th>Race3</th>\n",
       "      <th>Education</th>\n",
       "    </tr>\n",
       "  </thead>\n",
       "  <tbody>\n",
       "    <tr>\n",
       "      <th>5001</th>\n",
       "      <td>Black</td>\n",
       "      <td>High School</td>\n",
       "    </tr>\n",
       "    <tr>\n",
       "      <th>5002</th>\n",
       "      <td>White</td>\n",
       "      <td>College Grad</td>\n",
       "    </tr>\n",
       "    <tr>\n",
       "      <th>5003</th>\n",
       "      <td>White</td>\n",
       "      <td>College Grad</td>\n",
       "    </tr>\n",
       "    <tr>\n",
       "      <th>5005</th>\n",
       "      <td>White</td>\n",
       "      <td>College Grad</td>\n",
       "    </tr>\n",
       "    <tr>\n",
       "      <th>5006</th>\n",
       "      <td>White</td>\n",
       "      <td>High School</td>\n",
       "    </tr>\n",
       "  </tbody>\n",
       "</table>\n",
       "</div>"
      ],
      "text/plain": [
       "      Race3     Education\n",
       "5001  Black   High School\n",
       "5002  White  College Grad\n",
       "5003  White  College Grad\n",
       "5005  White  College Grad\n",
       "5006  White   High School"
      ]
     },
     "execution_count": 37,
     "metadata": {},
     "output_type": "execute_result"
    }
   ],
   "source": [
    "#show the table after dropping the NaNs\n",
    "data_no2.head()"
   ]
  },
  {
   "cell_type": "code",
   "execution_count": 38,
   "metadata": {},
   "outputs": [],
   "source": [
    "#define each level of education for the convenience of calculating the numbers of people\n",
    "def function(row):\n",
    "    if row['Education'] == 'College Grad':\n",
    "        return 'Bachelor'\n",
    "    elif row['Education'] == 'Some College':\n",
    "        return 'College Dropout'\n",
    "    elif row['Education'] == 'High School':\n",
    "        return 'High School Graduate'\n",
    "    elif row['Education'] == '9 - 11th Grade':\n",
    "        return 'High School Dropout'\n",
    "    elif row['Education'] == '8th Grade':\n",
    "        return 'Middle School'\n",
    "    else:\n",
    "        return 'NaN'"
   ]
  },
  {
   "cell_type": "code",
   "execution_count": 39,
   "metadata": {},
   "outputs": [],
   "source": [
    "#define a new column\n",
    "data_no2['Education Level'] = data_no2.apply(function, axis=1)"
   ]
  },
  {
   "cell_type": "code",
   "execution_count": 40,
   "metadata": {},
   "outputs": [],
   "source": [
    "#add a new column to the table\n",
    "table_no2 = pd.crosstab(index=data_no2[\"Education Level\"], columns=data_no2[\"Race3\"]) "
   ]
  },
  {
   "cell_type": "code",
   "execution_count": 41,
   "metadata": {},
   "outputs": [
    {
     "data": {
      "text/html": [
       "<div>\n",
       "<style scoped>\n",
       "    .dataframe tbody tr th:only-of-type {\n",
       "        vertical-align: middle;\n",
       "    }\n",
       "\n",
       "    .dataframe tbody tr th {\n",
       "        vertical-align: top;\n",
       "    }\n",
       "\n",
       "    .dataframe thead th {\n",
       "        text-align: right;\n",
       "    }\n",
       "</style>\n",
       "<table border=\"1\" class=\"dataframe\">\n",
       "  <thead>\n",
       "    <tr style=\"text-align: right;\">\n",
       "      <th>Race3</th>\n",
       "      <th>Asian</th>\n",
       "      <th>Black</th>\n",
       "      <th>Hispanic</th>\n",
       "      <th>Mexican</th>\n",
       "      <th>Other</th>\n",
       "      <th>White</th>\n",
       "    </tr>\n",
       "    <tr>\n",
       "      <th>Education Level</th>\n",
       "      <th></th>\n",
       "      <th></th>\n",
       "      <th></th>\n",
       "      <th></th>\n",
       "      <th></th>\n",
       "      <th></th>\n",
       "    </tr>\n",
       "  </thead>\n",
       "  <tbody>\n",
       "    <tr>\n",
       "      <th>Bachelor</th>\n",
       "      <td>110</td>\n",
       "      <td>76</td>\n",
       "      <td>34</td>\n",
       "      <td>23</td>\n",
       "      <td>15</td>\n",
       "      <td>870</td>\n",
       "    </tr>\n",
       "    <tr>\n",
       "      <th>College Dropout</th>\n",
       "      <td>56</td>\n",
       "      <td>152</td>\n",
       "      <td>53</td>\n",
       "      <td>54</td>\n",
       "      <td>46</td>\n",
       "      <td>799</td>\n",
       "    </tr>\n",
       "    <tr>\n",
       "      <th>High School Dropout</th>\n",
       "      <td>13</td>\n",
       "      <td>63</td>\n",
       "      <td>45</td>\n",
       "      <td>68</td>\n",
       "      <td>9</td>\n",
       "      <td>207</td>\n",
       "    </tr>\n",
       "    <tr>\n",
       "      <th>High School Graduate</th>\n",
       "      <td>15</td>\n",
       "      <td>94</td>\n",
       "      <td>57</td>\n",
       "      <td>61</td>\n",
       "      <td>16</td>\n",
       "      <td>436</td>\n",
       "    </tr>\n",
       "    <tr>\n",
       "      <th>Middle School</th>\n",
       "      <td>15</td>\n",
       "      <td>11</td>\n",
       "      <td>43</td>\n",
       "      <td>65</td>\n",
       "      <td>3</td>\n",
       "      <td>75</td>\n",
       "    </tr>\n",
       "  </tbody>\n",
       "</table>\n",
       "</div>"
      ],
      "text/plain": [
       "Race3                 Asian  Black  Hispanic  Mexican  Other  White\n",
       "Education Level                                                    \n",
       "Bachelor                110     76        34       23     15    870\n",
       "College Dropout          56    152        53       54     46    799\n",
       "High School Dropout      13     63        45       68      9    207\n",
       "High School Graduate     15     94        57       61     16    436\n",
       "Middle School            15     11        43       65      3     75"
      ]
     },
     "execution_count": 41,
     "metadata": {},
     "output_type": "execute_result"
    }
   ],
   "source": [
    "#show the table\n",
    "table_no2"
   ]
  },
  {
   "cell_type": "code",
   "execution_count": 42,
   "metadata": {},
   "outputs": [],
   "source": [
    "#organize the order of rows\n",
    "table_no3 = table_no2.reindex(['Bachelor','College Dropout','High School Graduate','High School Dropout','Middle School'])"
   ]
  },
  {
   "cell_type": "code",
   "execution_count": 43,
   "metadata": {},
   "outputs": [
    {
     "data": {
      "text/html": [
       "<div>\n",
       "<style scoped>\n",
       "    .dataframe tbody tr th:only-of-type {\n",
       "        vertical-align: middle;\n",
       "    }\n",
       "\n",
       "    .dataframe tbody tr th {\n",
       "        vertical-align: top;\n",
       "    }\n",
       "\n",
       "    .dataframe thead th {\n",
       "        text-align: right;\n",
       "    }\n",
       "</style>\n",
       "<table border=\"1\" class=\"dataframe\">\n",
       "  <thead>\n",
       "    <tr style=\"text-align: right;\">\n",
       "      <th>Race3</th>\n",
       "      <th>Asian</th>\n",
       "      <th>Black</th>\n",
       "      <th>Hispanic</th>\n",
       "      <th>Mexican</th>\n",
       "      <th>Other</th>\n",
       "      <th>White</th>\n",
       "    </tr>\n",
       "    <tr>\n",
       "      <th>Education Level</th>\n",
       "      <th></th>\n",
       "      <th></th>\n",
       "      <th></th>\n",
       "      <th></th>\n",
       "      <th></th>\n",
       "      <th></th>\n",
       "    </tr>\n",
       "  </thead>\n",
       "  <tbody>\n",
       "    <tr>\n",
       "      <th>Bachelor</th>\n",
       "      <td>110</td>\n",
       "      <td>76</td>\n",
       "      <td>34</td>\n",
       "      <td>23</td>\n",
       "      <td>15</td>\n",
       "      <td>870</td>\n",
       "    </tr>\n",
       "    <tr>\n",
       "      <th>College Dropout</th>\n",
       "      <td>56</td>\n",
       "      <td>152</td>\n",
       "      <td>53</td>\n",
       "      <td>54</td>\n",
       "      <td>46</td>\n",
       "      <td>799</td>\n",
       "    </tr>\n",
       "    <tr>\n",
       "      <th>High School Graduate</th>\n",
       "      <td>15</td>\n",
       "      <td>94</td>\n",
       "      <td>57</td>\n",
       "      <td>61</td>\n",
       "      <td>16</td>\n",
       "      <td>436</td>\n",
       "    </tr>\n",
       "    <tr>\n",
       "      <th>High School Dropout</th>\n",
       "      <td>13</td>\n",
       "      <td>63</td>\n",
       "      <td>45</td>\n",
       "      <td>68</td>\n",
       "      <td>9</td>\n",
       "      <td>207</td>\n",
       "    </tr>\n",
       "    <tr>\n",
       "      <th>Middle School</th>\n",
       "      <td>15</td>\n",
       "      <td>11</td>\n",
       "      <td>43</td>\n",
       "      <td>65</td>\n",
       "      <td>3</td>\n",
       "      <td>75</td>\n",
       "    </tr>\n",
       "  </tbody>\n",
       "</table>\n",
       "</div>"
      ],
      "text/plain": [
       "Race3                 Asian  Black  Hispanic  Mexican  Other  White\n",
       "Education Level                                                    \n",
       "Bachelor                110     76        34       23     15    870\n",
       "College Dropout          56    152        53       54     46    799\n",
       "High School Graduate     15     94        57       61     16    436\n",
       "High School Dropout      13     63        45       68      9    207\n",
       "Middle School            15     11        43       65      3     75"
      ]
     },
     "execution_count": 43,
     "metadata": {},
     "output_type": "execute_result"
    }
   ],
   "source": [
    "#show the table\n",
    "table_no3"
   ]
  },
  {
   "cell_type": "code",
   "execution_count": 44,
   "metadata": {},
   "outputs": [],
   "source": [
    "#define the rule for calculating the percentage of people in each educational level based on race\n",
    "table_no3['Asian_per'] = table_no3['Asian'] / sum(table_no3['Asian'])\n",
    "table_no3['Black_per'] = table_no3['Black'] / sum(table_no3['Black'])\n",
    "table_no3['Hispanic_per'] = table_no3['Hispanic'] / sum(table_no3['Hispanic'])\n",
    "table_no3['Mexican_per'] = table_no3['Mexican'] / sum(table_no3['Mexican'])\n",
    "table_no3['Other_per'] = table_no3['Other'] / sum(table_no3['Other'])\n",
    "table_no3['White_per'] = table_no3['White'] / sum(table_no3['White'])"
   ]
  },
  {
   "cell_type": "code",
   "execution_count": 45,
   "metadata": {},
   "outputs": [],
   "source": [
    "asian_per = table_no3['Asian_per']\n",
    "black_per = table_no3['Black_per']\n",
    "white_per = table_no3['White_per'] "
   ]
  },
  {
   "cell_type": "code",
   "execution_count": 46,
   "metadata": {
    "scrolled": true
   },
   "outputs": [
    {
     "data": {
      "image/png": "[encoded data removed]",
      "text/plain": [
       "<Figure size 720x432 with 1 Axes>"
      ]
     },
     "metadata": {
      "needs_background": "light"
     },
     "output_type": "display_data"
    }
   ],
   "source": [
    "#visualize the percentage of each educational level in population based on their races\n",
    "per_cols = ['Asian_per', 'Black_per', 'Hispanic_per', 'Mexican_per', 'Other_per', 'White_per']\n",
    "labels = ['Asian', 'Black', 'Hispanic', 'Mexican', 'Other', 'White']\n",
    "y_value1 = y_value1 = table_no3[per_cols].loc['Bachelor']\n",
    "y_value2 = y_value2 = table_no3[per_cols].loc['College Dropout']\n",
    "y_value3 = y_value3 = table_no3[per_cols].loc['High School Graduate']\n",
    "y_value4 = y_value4 = table_no3[per_cols].loc['High School Dropout']\n",
    "y_value5 = y_value5 = table_no3[per_cols].loc['Middle School']\n",
    "\n",
    "fig, axs = plt.subplots(figsize=(10,6))\n",
    "\n",
    "p1 = axs.bar(labels, y_value1) \n",
    "p2 = axs.bar(labels, y_value2, bottom = y_value1)\n",
    "p3 = axs.bar(labels, y_value3, bottom = (y_value1 + y_value2))\n",
    "p4 = axs.bar(labels, y_value4, bottom = (y_value1 + y_value2 + y_value3))\n",
    "p5 = axs.bar(labels, y_value5, bottom = (y_value1 + y_value2 + y_value3 + y_value4))\n",
    "\n",
    "axs.set_title(\"Education level broken down by race\", fontsize = 20, fontweight = \"bold\")   \n",
    "axs.set_xlabel(\"Race\", fontsize=14)\n",
    "axs.set_ylabel(\"Proportion\", fontsize=14)\n",
    "axs.tick_params(labelsize=16)  \n",
    "axs.legend((p1[0],p2[0],p3[0],p4[0],p5[0]),['Bachelor','College Dropout','High School Graduate','High School Dropout','Middle School'],\n",
    "           bbox_to_anchor=(1.05, 1))\n",
    "\n",
    "plt.show() "
   ]
  },
  {
   "cell_type": "code",
   "execution_count": 47,
   "metadata": {},
   "outputs": [],
   "source": [
    "#calculate the proportion with 95% CI \n",
    "def CI_prop(s, n):\n",
    "    p = s / n\n",
    "    se2 = p * (1-p) / n\n",
    "    se = np.sqrt(se2)\n",
    "    low = p - 1.96 * se\n",
    "    up = p + 1.96 * se\n",
    "    print('Sample proportion is:', p)\n",
    "    print('95% CI is: ({}, {})'.format(low, up))"
   ]
  },
  {
   "cell_type": "code",
   "execution_count": 48,
   "metadata": {},
   "outputs": [
    {
     "name": "stdout",
     "output_type": "stream",
     "text": [
      "Sample proportion is: 0.0975177304964539\n",
      "95% CI is: (0.08020511620515919, 0.11483034478774862)\n"
     ]
    }
   ],
   "source": [
    "#proportion of asian people who have a bachelor degree among all college graduate in this dataset, with 95% CI\n",
    "CI_prop(110,1128)"
   ]
  },
  {
   "cell_type": "code",
   "execution_count": 49,
   "metadata": {},
   "outputs": [
    {
     "name": "stdout",
     "output_type": "stream",
     "text": [
      "Sample proportion is: 0.9024822695035462\n",
      "95% CI is: (0.8851696552122514, 0.9197948837948409)\n"
     ]
    }
   ],
   "source": [
    "#proportion of non-asian people who  have a bachelor degree among all college graduate in this dataset, with 95% CI\n",
    "CI_prop(1018,1128)"
   ]
  },
  {
   "cell_type": "code",
   "execution_count": 50,
   "metadata": {},
   "outputs": [],
   "source": [
    "#define how to calculate proportion difference with 95% CI\n",
    "def CI_prop_diff(s1, s2, n1, n2):\n",
    "    p1 = s1 / n1\n",
    "    p2 = s2 / n2\n",
    "    se2p1 = p1 * (1 - p1) / n1\n",
    "    se2p2 = p2 * (1 - p2) / n2\n",
    "    se2 = se2p1 + se2p2\n",
    "    se = np.sqrt(se2)\n",
    "    low = (p1 - p2) - 1.96 * se\n",
    "    up = (p1 - p2) + 1.96 * se\n",
    "    print(\"Proportion difference is:\", p1 - p2)\n",
    "    print(\"95% CI is: ({}, {})\".format(low, up))"
   ]
  },
  {
   "cell_type": "code",
   "execution_count": 51,
   "metadata": {
    "scrolled": true
   },
   "outputs": [
    {
     "name": "stdout",
     "output_type": "stream",
     "text": [
      "Proportion difference is: 0.22468615984405454\n",
      "95% CI is: (0.1552436799031806, 0.2941286397849285)\n"
     ]
    }
   ],
   "source": [
    "#calculate the proportion difference between Asian people who have a bachelor degree and non-Asian people who have a bachelor degree\n",
    "CI_prop_diff(s1=110,s2=1018,n1=209,n2=3375)"
   ]
  },
  {
   "cell_type": "code",
   "execution_count": 52,
   "metadata": {},
   "outputs": [],
   "source": [
    "#I was not sure how to narrow down the dataframe, so I created another csv based on our calculations above.\n",
    "import pandas as pd\n",
    "sub_df = pd.read_csv('/Users/lengyizhang/Downloads/subdata.csv') "
   ]
  },
  {
   "cell_type": "code",
   "execution_count": 53,
   "metadata": {},
   "outputs": [
    {
     "data": {
      "text/html": [
       "<div>\n",
       "<style scoped>\n",
       "    .dataframe tbody tr th:only-of-type {\n",
       "        vertical-align: middle;\n",
       "    }\n",
       "\n",
       "    .dataframe tbody tr th {\n",
       "        vertical-align: top;\n",
       "    }\n",
       "\n",
       "    .dataframe thead th {\n",
       "        text-align: right;\n",
       "    }\n",
       "</style>\n",
       "<table border=\"1\" class=\"dataframe\">\n",
       "  <thead>\n",
       "    <tr style=\"text-align: right;\">\n",
       "      <th></th>\n",
       "      <th>Race</th>\n",
       "      <th>Bachelor</th>\n",
       "      <th>Non-bachelor</th>\n",
       "    </tr>\n",
       "  </thead>\n",
       "  <tbody>\n",
       "    <tr>\n",
       "      <th>0</th>\n",
       "      <td>Asian</td>\n",
       "      <td>110</td>\n",
       "      <td>99</td>\n",
       "    </tr>\n",
       "    <tr>\n",
       "      <th>1</th>\n",
       "      <td>Non-Asian</td>\n",
       "      <td>1018</td>\n",
       "      <td>3375</td>\n",
       "    </tr>\n",
       "  </tbody>\n",
       "</table>\n",
       "</div>"
      ],
      "text/plain": [
       "        Race  Bachelor  Non-bachelor\n",
       "0      Asian       110            99\n",
       "1  Non-Asian      1018          3375"
      ]
     },
     "execution_count": 53,
     "metadata": {},
     "output_type": "execute_result"
    }
   ],
   "source": [
    "#show the table\n",
    "sub_df"
   ]
  },
  {
   "cell_type": "code",
   "execution_count": 54,
   "metadata": {},
   "outputs": [],
   "source": [
    "#define my shortcut\n",
    "table = sub_df[['Bachelor','Non-bachelor']] "
   ]
  },
  {
   "cell_type": "code",
   "execution_count": 55,
   "metadata": {},
   "outputs": [
    {
     "name": "stdout",
     "output_type": "stream",
     "text": [
      "chi2: 91.98370072339345\n",
      "p: 8.739333174861634e-22\n",
      "dof: 1\n",
      "expected: [[  51.22816167  157.77183833]\n",
      " [1076.77183833 3316.22816167]]\n"
     ]
    }
   ],
   "source": [
    "#conduct the chi-squared test between Asian and Bachelor\n",
    "chi2, p, dof, expected = stats.chi2_contingency(table)\n",
    "\n",
    "print(\"chi2:\", chi2)\n",
    "print(\"p:\", p)\n",
    "print(\"dof:\", dof)\n",
    "print(\"expected:\", expected) "
   ]
  },
  {
   "cell_type": "code",
   "execution_count": 56,
   "metadata": {},
   "outputs": [
    {
     "data": {
      "text/plain": [
       "4602"
      ]
     },
     "execution_count": 56,
     "metadata": {},
     "output_type": "execute_result"
    }
   ],
   "source": [
    "#calculate the sum of each cell\n",
    "110+99+1018+3375"
   ]
  },
  {
   "cell_type": "code",
   "execution_count": null,
   "metadata": {},
   "outputs": [],
   "source": []
  },
  {
   "cell_type": "code",
   "execution_count": 57,
   "metadata": {},
   "outputs": [],
   "source": [
    "#Examine the relationship between income and BMI\n",
    "data_no3 = df[['HHIncomeMid','BMI']].dropna() \n",
    "#Source of Data: NHANES"
   ]
  },
  {
   "cell_type": "code",
   "execution_count": 58,
   "metadata": {
    "scrolled": true
   },
   "outputs": [
    {
     "data": {
      "text/html": [
       "<div>\n",
       "<style scoped>\n",
       "    .dataframe tbody tr th:only-of-type {\n",
       "        vertical-align: middle;\n",
       "    }\n",
       "\n",
       "    .dataframe tbody tr th {\n",
       "        vertical-align: top;\n",
       "    }\n",
       "\n",
       "    .dataframe thead th {\n",
       "        text-align: right;\n",
       "    }\n",
       "</style>\n",
       "<table border=\"1\" class=\"dataframe\">\n",
       "  <thead>\n",
       "    <tr style=\"text-align: right;\">\n",
       "      <th></th>\n",
       "      <th>HHIncomeMid</th>\n",
       "      <th>BMI</th>\n",
       "    </tr>\n",
       "  </thead>\n",
       "  <tbody>\n",
       "    <tr>\n",
       "      <th>0</th>\n",
       "      <td>30000.0</td>\n",
       "      <td>32.22</td>\n",
       "    </tr>\n",
       "    <tr>\n",
       "      <th>1</th>\n",
       "      <td>30000.0</td>\n",
       "      <td>32.22</td>\n",
       "    </tr>\n",
       "    <tr>\n",
       "      <th>2</th>\n",
       "      <td>30000.0</td>\n",
       "      <td>32.22</td>\n",
       "    </tr>\n",
       "    <tr>\n",
       "      <th>3</th>\n",
       "      <td>22500.0</td>\n",
       "      <td>15.30</td>\n",
       "    </tr>\n",
       "    <tr>\n",
       "      <th>4</th>\n",
       "      <td>40000.0</td>\n",
       "      <td>30.57</td>\n",
       "    </tr>\n",
       "  </tbody>\n",
       "</table>\n",
       "</div>"
      ],
      "text/plain": [
       "   HHIncomeMid    BMI\n",
       "0      30000.0  32.22\n",
       "1      30000.0  32.22\n",
       "2      30000.0  32.22\n",
       "3      22500.0  15.30\n",
       "4      40000.0  30.57"
      ]
     },
     "execution_count": 58,
     "metadata": {},
     "output_type": "execute_result"
    }
   ],
   "source": [
    "#show the table\n",
    "data_no3.head()"
   ]
  },
  {
   "cell_type": "code",
   "execution_count": 59,
   "metadata": {},
   "outputs": [],
   "source": [
    "#define the dataframe\n",
    "Income_BMI_df = df[['HHIncomeMid', 'BMI']]\n",
    "Income_BMI_df = df[['HHIncomeMid', 'BMI']].dropna()"
   ]
  },
  {
   "cell_type": "code",
   "execution_count": 60,
   "metadata": {
    "scrolled": false
   },
   "outputs": [
    {
     "name": "stdout",
     "output_type": "stream",
     "text": [
      "Requirement already satisfied: statsmodels in ./opt/anaconda3/lib/python3.8/site-packages (0.11.1)\n",
      "Requirement already satisfied: pandas>=0.21 in ./opt/anaconda3/lib/python3.8/site-packages (from statsmodels) (1.0.5)\n",
      "Requirement already satisfied: scipy>=1.0 in ./opt/anaconda3/lib/python3.8/site-packages (from statsmodels) (1.5.0)\n",
      "Requirement already satisfied: numpy>=1.14 in ./opt/anaconda3/lib/python3.8/site-packages (from statsmodels) (1.18.5)\n",
      "Requirement already satisfied: patsy>=0.5 in ./opt/anaconda3/lib/python3.8/site-packages (from statsmodels) (0.5.1)\n",
      "Requirement already satisfied: python-dateutil>=2.6.1 in ./opt/anaconda3/lib/python3.8/site-packages (from pandas>=0.21->statsmodels) (2.8.1)\n",
      "Requirement already satisfied: pytz>=2017.2 in ./opt/anaconda3/lib/python3.8/site-packages (from pandas>=0.21->statsmodels) (2020.1)\n",
      "Requirement already satisfied: six in ./opt/anaconda3/lib/python3.8/site-packages (from patsy>=0.5->statsmodels) (1.15.0)\n"
     ]
    }
   ],
   "source": [
    "#apply the python extension\n",
    "!pip install statsmodels --user"
   ]
  },
  {
   "cell_type": "code",
   "execution_count": 61,
   "metadata": {},
   "outputs": [
    {
     "data": {
      "text/html": [
       "<table class=\"simpletable\">\n",
       "<caption>OLS Regression Results</caption>\n",
       "<tr>\n",
       "  <th>Dep. Variable:</th>           <td>BMI</td>       <th>  R-squared:         </th> <td>   0.004</td> \n",
       "</tr>\n",
       "<tr>\n",
       "  <th>Model:</th>                   <td>OLS</td>       <th>  Adj. R-squared:    </th> <td>   0.004</td> \n",
       "</tr>\n",
       "<tr>\n",
       "  <th>Method:</th>             <td>Least Squares</td>  <th>  F-statistic:       </th> <td>   35.89</td> \n",
       "</tr>\n",
       "<tr>\n",
       "  <th>Date:</th>             <td>Mon, 14 Dec 2020</td> <th>  Prob (F-statistic):</th> <td>2.17e-09</td> \n",
       "</tr>\n",
       "<tr>\n",
       "  <th>Time:</th>                 <td>00:13:41</td>     <th>  Log-Likelihood:    </th> <td> -30283.</td> \n",
       "</tr>\n",
       "<tr>\n",
       "  <th>No. Observations:</th>      <td>  8852</td>      <th>  AIC:               </th> <td>6.057e+04</td>\n",
       "</tr>\n",
       "<tr>\n",
       "  <th>Df Residuals:</th>          <td>  8850</td>      <th>  BIC:               </th> <td>6.058e+04</td>\n",
       "</tr>\n",
       "<tr>\n",
       "  <th>Df Model:</th>              <td>     1</td>      <th>                     </th>     <td> </td>    \n",
       "</tr>\n",
       "<tr>\n",
       "  <th>Covariance Type:</th>      <td>nonrobust</td>    <th>                     </th>     <td> </td>    \n",
       "</tr>\n",
       "</table>\n",
       "<table class=\"simpletable\">\n",
       "<tr>\n",
       "    <td></td>       <th>coef</th>     <th>std err</th>      <th>t</th>      <th>P>|t|</th>  <th>[0.025</th>    <th>0.975]</th>  \n",
       "</tr>\n",
       "<tr>\n",
       "  <th>const</th> <td>   27.5116</td> <td>    0.158</td> <td>  174.113</td> <td> 0.000</td> <td>   27.202</td> <td>   27.821</td>\n",
       "</tr>\n",
       "<tr>\n",
       "  <th>x1</th>    <td>-1.429e-05</td> <td> 2.39e-06</td> <td>   -5.990</td> <td> 0.000</td> <td> -1.9e-05</td> <td>-9.62e-06</td>\n",
       "</tr>\n",
       "</table>\n",
       "<table class=\"simpletable\">\n",
       "<tr>\n",
       "  <th>Omnibus:</th>       <td>1298.127</td> <th>  Durbin-Watson:     </th> <td>   1.433</td>\n",
       "</tr>\n",
       "<tr>\n",
       "  <th>Prob(Omnibus):</th>  <td> 0.000</td>  <th>  Jarque-Bera (JB):  </th> <td>2827.682</td>\n",
       "</tr>\n",
       "<tr>\n",
       "  <th>Skew:</th>           <td> 0.873</td>  <th>  Prob(JB):          </th> <td>    0.00</td>\n",
       "</tr>\n",
       "<tr>\n",
       "  <th>Kurtosis:</th>       <td> 5.149</td>  <th>  Cond. No.          </th> <td>1.33e+05</td>\n",
       "</tr>\n",
       "</table><br/><br/>Warnings:<br/>[1] Standard Errors assume that the covariance matrix of the errors is correctly specified.<br/>[2] The condition number is large, 1.33e+05. This might indicate that there are<br/>strong multicollinearity or other numerical problems."
      ],
      "text/plain": [
       "<class 'statsmodels.iolib.summary.Summary'>\n",
       "\"\"\"\n",
       "                            OLS Regression Results                            \n",
       "==============================================================================\n",
       "Dep. Variable:                    BMI   R-squared:                       0.004\n",
       "Model:                            OLS   Adj. R-squared:                  0.004\n",
       "Method:                 Least Squares   F-statistic:                     35.89\n",
       "Date:                Mon, 14 Dec 2020   Prob (F-statistic):           2.17e-09\n",
       "Time:                        00:13:41   Log-Likelihood:                -30283.\n",
       "No. Observations:                8852   AIC:                         6.057e+04\n",
       "Df Residuals:                    8850   BIC:                         6.058e+04\n",
       "Df Model:                           1                                         \n",
       "Covariance Type:            nonrobust                                         \n",
       "==============================================================================\n",
       "                 coef    std err          t      P>|t|      [0.025      0.975]\n",
       "------------------------------------------------------------------------------\n",
       "const         27.5116      0.158    174.113      0.000      27.202      27.821\n",
       "x1         -1.429e-05   2.39e-06     -5.990      0.000    -1.9e-05   -9.62e-06\n",
       "==============================================================================\n",
       "Omnibus:                     1298.127   Durbin-Watson:                   1.433\n",
       "Prob(Omnibus):                  0.000   Jarque-Bera (JB):             2827.682\n",
       "Skew:                           0.873   Prob(JB):                         0.00\n",
       "Kurtosis:                       5.149   Cond. No.                     1.33e+05\n",
       "==============================================================================\n",
       "\n",
       "Warnings:\n",
       "[1] Standard Errors assume that the covariance matrix of the errors is correctly specified.\n",
       "[2] The condition number is large, 1.33e+05. This might indicate that there are\n",
       "strong multicollinearity or other numerical problems.\n",
       "\"\"\""
      ]
     },
     "metadata": {},
     "output_type": "display_data"
    }
   ],
   "source": [
    "#apply the simple regression analysis\n",
    "from statsmodels.regression.linear_model import OLS\n",
    "import statsmodels.api as sm\n",
    "\n",
    "x_vals = Income_BMI_df['HHIncomeMid'].values\n",
    "y_vals = Income_BMI_df['BMI']\n",
    "\n",
    "reg_model = OLS(y_vals, sm.add_constant(x_vals)).fit()\n",
    "display(reg_model.summary())"
   ]
  },
  {
   "cell_type": "code",
   "execution_count": 62,
   "metadata": {},
   "outputs": [],
   "source": [
    "#Regression Equation:\n",
    "#BMI = HHIncome[US$10,000]*-1.429e-05 + 27.5116\n",
    "#slope -1.429e-05 95% CI[-1.668e-05, -1.19e-05]\n"
   ]
  },
  {
   "cell_type": "code",
   "execution_count": 63,
   "metadata": {},
   "outputs": [],
   "source": [
    "#define the regression parameter\n",
    "b0 = reg_model.params[0]\n",
    "b1 = reg_model.params[1]\n",
    "x_plot = np.linspace(np.min(df['HHIncomeMid']),np.max(df['HHIncomeMid']), 100)"
   ]
  },
  {
   "cell_type": "code",
   "execution_count": 64,
   "metadata": {},
   "outputs": [
    {
     "data": {
      "image/png": "[encoded data removed]",
      "text/plain": [
       "<Figure size 864x576 with 1 Axes>"
      ]
     },
     "metadata": {
      "needs_background": "light"
     },
     "output_type": "display_data"
    }
   ],
   "source": [
    "#visualize the relationship between median household income and BMI\n",
    "fig, axs = plt.subplots(figsize=(12,8))\n",
    "axs.scatter(Income_BMI_df['HHIncomeMid'], Income_BMI_df['BMI'], c='blue',\n",
    "            edgecolors='none', s=30)\n",
    "\n",
    "plt.title(\"Median Household Income v. BMI\", fontsize=20)\n",
    "axs.set_xlabel(\"Median Household Income [$]\", fontsize=18)\n",
    "axs.set_ylabel(\"BMI\", fontsize=18)\n",
    "\n",
    "axs.plot(x_plot, x_plot*b1 + b0, color='red')\n",
    "axs.tick_params(labelsize=15)\n",
    "plt.text(75000,10,'BMI = HHIncome[US$10,000]*-1.429e-05 + 27.5116', fontsize=15 , color = 'red')\n",
    "plt.show()"
   ]
  },
  {
   "cell_type": "code",
   "execution_count": 65,
   "metadata": {},
   "outputs": [
    {
     "name": "stdout",
     "output_type": "stream",
     "text": [
      "Correlation coefficient: -0.06354937675983952\n",
      "p-value: 2.1738634496675665e-09\n"
     ]
    }
   ],
   "source": [
    "#calculate the correlation coefficient and p-value\n",
    "from scipy import stats\n",
    "corr = stats.pearsonr(Income_BMI_df['HHIncomeMid'], Income_BMI_df['BMI'])\n",
    "print('Correlation coefficient:', corr[0])\n",
    "print('p-value:', corr[1])"
   ]
  },
  {
   "cell_type": "code",
   "execution_count": null,
   "metadata": {},
   "outputs": [],
   "source": []
  },
  {
   "cell_type": "code",
   "execution_count": 66,
   "metadata": {},
   "outputs": [],
   "source": [
    "#Examine the relationship between education and income\n",
    "data_no4 = df[['Race3','HHIncomeMid','Gender']].dropna()\n",
    "#Source of Data: NHANES"
   ]
  },
  {
   "cell_type": "code",
   "execution_count": 67,
   "metadata": {},
   "outputs": [
    {
     "data": {
      "text/html": [
       "<div>\n",
       "<style scoped>\n",
       "    .dataframe tbody tr th:only-of-type {\n",
       "        vertical-align: middle;\n",
       "    }\n",
       "\n",
       "    .dataframe tbody tr th {\n",
       "        vertical-align: top;\n",
       "    }\n",
       "\n",
       "    .dataframe thead th {\n",
       "        text-align: right;\n",
       "    }\n",
       "</style>\n",
       "<table border=\"1\" class=\"dataframe\">\n",
       "  <thead>\n",
       "    <tr style=\"text-align: right;\">\n",
       "      <th></th>\n",
       "      <th>Race3</th>\n",
       "      <th>HHIncomeMid</th>\n",
       "      <th>Gender</th>\n",
       "    </tr>\n",
       "  </thead>\n",
       "  <tbody>\n",
       "    <tr>\n",
       "      <th>5000</th>\n",
       "      <td>Asian</td>\n",
       "      <td>100000.0</td>\n",
       "      <td>male</td>\n",
       "    </tr>\n",
       "    <tr>\n",
       "      <th>5001</th>\n",
       "      <td>Black</td>\n",
       "      <td>22500.0</td>\n",
       "      <td>female</td>\n",
       "    </tr>\n",
       "    <tr>\n",
       "      <th>5002</th>\n",
       "      <td>White</td>\n",
       "      <td>70000.0</td>\n",
       "      <td>male</td>\n",
       "    </tr>\n",
       "    <tr>\n",
       "      <th>5003</th>\n",
       "      <td>White</td>\n",
       "      <td>70000.0</td>\n",
       "      <td>male</td>\n",
       "    </tr>\n",
       "    <tr>\n",
       "      <th>5004</th>\n",
       "      <td>White</td>\n",
       "      <td>12500.0</td>\n",
       "      <td>male</td>\n",
       "    </tr>\n",
       "    <tr>\n",
       "      <th>...</th>\n",
       "      <td>...</td>\n",
       "      <td>...</td>\n",
       "      <td>...</td>\n",
       "    </tr>\n",
       "    <tr>\n",
       "      <th>9995</th>\n",
       "      <td>Mexican</td>\n",
       "      <td>7500.0</td>\n",
       "      <td>male</td>\n",
       "    </tr>\n",
       "    <tr>\n",
       "      <th>9996</th>\n",
       "      <td>White</td>\n",
       "      <td>87500.0</td>\n",
       "      <td>female</td>\n",
       "    </tr>\n",
       "    <tr>\n",
       "      <th>9997</th>\n",
       "      <td>Mexican</td>\n",
       "      <td>87500.0</td>\n",
       "      <td>male</td>\n",
       "    </tr>\n",
       "    <tr>\n",
       "      <th>9998</th>\n",
       "      <td>White</td>\n",
       "      <td>70000.0</td>\n",
       "      <td>male</td>\n",
       "    </tr>\n",
       "    <tr>\n",
       "      <th>9999</th>\n",
       "      <td>White</td>\n",
       "      <td>70000.0</td>\n",
       "      <td>male</td>\n",
       "    </tr>\n",
       "  </tbody>\n",
       "</table>\n",
       "<p>4623 rows × 3 columns</p>\n",
       "</div>"
      ],
      "text/plain": [
       "        Race3  HHIncomeMid  Gender\n",
       "5000    Asian     100000.0    male\n",
       "5001    Black      22500.0  female\n",
       "5002    White      70000.0    male\n",
       "5003    White      70000.0    male\n",
       "5004    White      12500.0    male\n",
       "...       ...          ...     ...\n",
       "9995  Mexican       7500.0    male\n",
       "9996    White      87500.0  female\n",
       "9997  Mexican      87500.0    male\n",
       "9998    White      70000.0    male\n",
       "9999    White      70000.0    male\n",
       "\n",
       "[4623 rows x 3 columns]"
      ]
     },
     "execution_count": 67,
     "metadata": {},
     "output_type": "execute_result"
    }
   ],
   "source": [
    "#Present the three columns of data that I want to engage with.\n",
    "data_no4"
   ]
  },
  {
   "cell_type": "code",
   "execution_count": 68,
   "metadata": {},
   "outputs": [],
   "source": [
    "#define some shortcut terms to access a certain group of data\n",
    "male = df['Gender'] == 'male'\n",
    "female = df['Gender'] == 'female'\n",
    "asian = df['Race3'] == 'Asian'\n",
    "white = df['Race3'] == 'White'"
   ]
  },
  {
   "cell_type": "code",
   "execution_count": 69,
   "metadata": {},
   "outputs": [],
   "source": [
    "#narrow down the dataframe to select data that fulfill the requirement of both categories\n",
    "asian_male_df = df[male & asian]\n",
    "asian_female_df = df[female & asian]\n",
    "white_male_df = df[male & white]\n",
    "white_female_df = df[female & white]"
   ]
  },
  {
   "cell_type": "code",
   "execution_count": 70,
   "metadata": {},
   "outputs": [],
   "source": [
    "#define some shortcuts and drop the NaNs.\n",
    "asianmale = asian_male_df['HHIncomeMid'].dropna()\n",
    "asianfemale = asian_female_df['HHIncomeMid'].dropna()\n",
    "whitemale = white_male_df['HHIncomeMid'].dropna()\n",
    "whitefemale = white_female_df['HHIncomeMid'].dropna()"
   ]
  },
  {
   "cell_type": "code",
   "execution_count": 71,
   "metadata": {},
   "outputs": [
    {
     "data": {
      "image/png": "[encoded data removed]",
      "text/plain": [
       "<Figure size 864x576 with 1 Axes>"
      ]
     },
     "metadata": {
      "needs_background": "light"
     },
     "output_type": "display_data"
    }
   ],
   "source": [
    "#visualize the contrast between Asian men's and Asian women's income\n",
    "import matplotlib.pyplot as plt\n",
    "\n",
    "fig, axs = plt.subplots(figsize=(12,8))\n",
    "axs.hist(whitemale, color=\"b\", alpha=0.5, \n",
    "         bins=np.linspace(0,100000,30), label=\"White Male\")\n",
    "axs.hist(whitefemale, color=\"r\", alpha=0.3,\n",
    "         bins=np.linspace(0,100000,30), label=\"White Female\")\n",
    "plt.title(\"White median household income broken down by gender\", fontsize=20)\n",
    "axs.set_xlabel(\"Median household income\", fontsize=18)\n",
    "axs.set_ylabel(\"Frequency\", fontsize=18)\n",
    "axs.tick_params(labelsize=15)\n",
    "axs.legend(prop={'size': 15})\n",
    "axs.axvline(np.mean(whitemale), color='b', ls='dashed', lw=2)\n",
    "axs.axvline(np.mean(whitefemale), color='r', ls='dashed', lw=2)\n",
    "plt.show() "
   ]
  },
  {
   "cell_type": "code",
   "execution_count": 72,
   "metadata": {},
   "outputs": [
    {
     "data": {
      "image/png": "[encoded data removed]",
      "text/plain": [
       "<Figure size 864x576 with 1 Axes>"
      ]
     },
     "metadata": {
      "needs_background": "light"
     },
     "output_type": "display_data"
    }
   ],
   "source": [
    "#visualize the contrast between white men's and white women's income\n",
    "import matplotlib.pyplot as plt\n",
    "\n",
    "fig, axs = plt.subplots(figsize=(12,8))\n",
    "axs.hist(asianmale, color=\"b\", alpha=0.5, \n",
    "         bins=np.linspace(0,100000,30), label=\"Asian Male\")\n",
    "axs.hist(asianfemale, color=\"r\", alpha=0.3,\n",
    "         bins=np.linspace(0,100000,30), label=\"Asian Female\")\n",
    "plt.title(\"Asian median household income broken down by gender\", fontsize=20)\n",
    "axs.set_xlabel(\"Median household income\", fontsize=18)\n",
    "axs.set_ylabel(\"Frequency\", fontsize=18)\n",
    "axs.tick_params(labelsize=15)\n",
    "axs.legend(prop={'size': 15})\n",
    "axs.axvline(np.mean(asianmale), color='b', ls='dashed', lw=2)\n",
    "axs.axvline(np.mean(asianfemale), color='r', ls='dashed', lw=2)\n",
    "plt.show() "
   ]
  },
  {
   "cell_type": "code",
   "execution_count": 73,
   "metadata": {},
   "outputs": [
    {
     "name": "stdout",
     "output_type": "stream",
     "text": [
      "Average is: 63256.3025210084\n",
      "95% CI of mean is: (57347.642660477795, 69164.96238153901)\n"
     ]
    }
   ],
   "source": [
    "#calculate the mean of Asian men's income with 95% CI\n",
    "CI_mean(asianmale)"
   ]
  },
  {
   "cell_type": "code",
   "execution_count": 74,
   "metadata": {
    "scrolled": true
   },
   "outputs": [
    {
     "name": "stdout",
     "output_type": "stream",
     "text": [
      "Average is: 67226.5625\n",
      "95% CI of mean is: (61486.86780997204, 72966.25719002796)\n"
     ]
    }
   ],
   "source": [
    "#calculate the mean of Asian women's income with 95% CI\n",
    "CI_mean(asianfemale)"
   ]
  },
  {
   "cell_type": "code",
   "execution_count": 75,
   "metadata": {},
   "outputs": [
    {
     "name": "stdout",
     "output_type": "stream",
     "text": [
      "Average is: 65208.192281651995\n",
      "95% CI of mean is: (63558.52373225502, 66857.86083104898)\n"
     ]
    }
   ],
   "source": [
    "#calculate the mean of white men's income with 95% CI\n",
    "CI_mean(whitemale)"
   ]
  },
  {
   "cell_type": "code",
   "execution_count": 76,
   "metadata": {},
   "outputs": [
    {
     "name": "stdout",
     "output_type": "stream",
     "text": [
      "Average is: 60925.98794373744\n",
      "95% CI of mean is: (59224.38150100767, 62627.59438646721)\n"
     ]
    }
   ],
   "source": [
    "#calculate the mean of white women's income with 95% CI\n",
    "CI_mean(whitefemale)"
   ]
  },
  {
   "cell_type": "code",
   "execution_count": 77,
   "metadata": {},
   "outputs": [
    {
     "name": "stdout",
     "output_type": "stream",
     "text": [
      "The average difference is: -3970.2599789915985\n",
      "The 95% CI is: (-12207.756958182588, 4267.237000199391)\n"
     ]
    }
   ],
   "source": [
    "#calculate the mean of the difference between Asian men's and Asian women's income with 95% CI\n",
    "CI_mean_diff(asianmale, asianfemale)"
   ]
  },
  {
   "cell_type": "code",
   "execution_count": 78,
   "metadata": {},
   "outputs": [
    {
     "name": "stdout",
     "output_type": "stream",
     "text": [
      "The average difference is: 4282.204337914554\n",
      "The 95% CI is: (1912.210496401673, 6652.198179427436)\n"
     ]
    }
   ],
   "source": [
    "#calculate the mean of the difference between white men's and white women's income with 95% CI\n",
    "CI_mean_diff(whitemale, whitefemale)"
   ]
  },
  {
   "cell_type": "code",
   "execution_count": 79,
   "metadata": {},
   "outputs": [
    {
     "name": "stdout",
     "output_type": "stream",
     "text": [
      "Test statistic: -0.940827629102861\n",
      "p-value: 0.3477239382980294\n"
     ]
    }
   ],
   "source": [
    "#conduct a two-sample test between asian men's and asian women's income\n",
    "t_val, p_val = stats.ttest_ind(asianmale,\n",
    "                               asianfemale.dropna(), equal_var=False)\n",
    "\n",
    "print(\"Test statistic:\", t_val)\n",
    "print(\"p-value:\", p_val) "
   ]
  },
  {
   "cell_type": "code",
   "execution_count": 80,
   "metadata": {},
   "outputs": [
    {
     "name": "stdout",
     "output_type": "stream",
     "text": [
      "Test statistic: 0.6211722509154703\n",
      "p-value: 0.5355192486704112\n"
     ]
    }
   ],
   "source": [
    "#conduct a two-sample test between white men's and white women's income\n",
    "t_val, p_val = stats.ttest_ind(whitemale,\n",
    "                               asianmale.dropna(), equal_var=False)\n",
    "\n",
    "print(\"Test statistic:\", t_val)\n",
    "print(\"p-value:\", p_val) "
   ]
  },
  {
   "cell_type": "code",
   "execution_count": null,
   "metadata": {},
   "outputs": [],
   "source": []
  }
 ],
 "metadata": {
  "kernelspec": {
   "display_name": "Python 3",
   "language": "python",
   "name": "python3"
  },
  "language_info": {
   "codemirror_mode": {
    "name": "ipython",
    "version": 3
   },
   "file_extension": ".py",
   "mimetype": "text/x-python",
   "name": "python",
   "nbconvert_exporter": "python",
   "pygments_lexer": "ipython3",
   "version": "3.8.3"
  }
 },
 "nbformat": 4,
 "nbformat_minor": 4
}
